{
 "cells": [
  {
   "cell_type": "code",
   "execution_count": 1,
   "metadata": {},
   "outputs": [],
   "source": [
    "import allel\n",
    "import zarr\n",
    "import numcodecs\n",
    "import numpy as np\n",
    "import sys"
   ]
  },
  {
   "cell_type": "code",
   "execution_count": 2,
   "metadata": {},
   "outputs": [],
   "source": [
    "vcf_path = '../../../data/external_public/1kg_phase3/haps/ALL.chr22.phase3_shapeit2_mvncall_integrated_v5a.20130502.genotypes.vcf.gz'"
   ]
  },
  {
   "cell_type": "code",
   "execution_count": 3,
   "metadata": {},
   "outputs": [
    {
     "name": "stdout",
     "output_type": "stream",
     "text": [
      "-rw-rw-r-- 1 abiddanda pi-jnovembre 205M Dec  6  2016 ../../../data/external_public/1kg_phase3/haps/ALL.chr22.phase3_shapeit2_mvncall_integrated_v5a.20130502.genotypes.vcf.gz\n"
     ]
    }
   ],
   "source": [
    "!ls -lh {vcf_path}"
   ]
  },
  {
   "cell_type": "code",
   "execution_count": 4,
   "metadata": {},
   "outputs": [],
   "source": [
    "zarr_path = '../../../data/external_public/1kg_phase3/haps/ALL.chr22.phase3_shapeit2_mvncall_integrated_v5a.20130502.genotypes.zarr'"
   ]
  },
  {
   "cell_type": "code",
   "execution_count": 5,
   "metadata": {},
   "outputs": [],
   "source": [
    "#allel.vcf_to_zarr(vcf_path, zarr_path, group='22', fields='*', log=sys.stdout, overwrite=True)"
   ]
  },
  {
   "cell_type": "code",
   "execution_count": 6,
   "metadata": {},
   "outputs": [
    {
     "ename": "ModuleNotFoundError",
     "evalue": "No module named 'ipytree'",
     "output_type": "error",
     "traceback": [
      "\u001b[0;31m---------------------------------------------------------------------------\u001b[0m",
      "\u001b[0;31mModuleNotFoundError\u001b[0m                       Traceback (most recent call last)",
      "\u001b[0;32m/scratch/midway2/achyutha11/miniconda3/envs/scikit/lib/python3.8/site-packages/IPython/core/formatters.py\u001b[0m in \u001b[0;36m__call__\u001b[0;34m(self, obj)\u001b[0m\n\u001b[1;32m    916\u001b[0m             \u001b[0mmethod\u001b[0m \u001b[0;34m=\u001b[0m \u001b[0mget_real_method\u001b[0m\u001b[0;34m(\u001b[0m\u001b[0mobj\u001b[0m\u001b[0;34m,\u001b[0m \u001b[0mself\u001b[0m\u001b[0;34m.\u001b[0m\u001b[0mprint_method\u001b[0m\u001b[0;34m)\u001b[0m\u001b[0;34m\u001b[0m\u001b[0;34m\u001b[0m\u001b[0m\n\u001b[1;32m    917\u001b[0m             \u001b[0;32mif\u001b[0m \u001b[0mmethod\u001b[0m \u001b[0;32mis\u001b[0m \u001b[0;32mnot\u001b[0m \u001b[0;32mNone\u001b[0m\u001b[0;34m:\u001b[0m\u001b[0;34m\u001b[0m\u001b[0;34m\u001b[0m\u001b[0m\n\u001b[0;32m--> 918\u001b[0;31m                 \u001b[0mmethod\u001b[0m\u001b[0;34m(\u001b[0m\u001b[0;34m)\u001b[0m\u001b[0;34m\u001b[0m\u001b[0;34m\u001b[0m\u001b[0m\n\u001b[0m\u001b[1;32m    919\u001b[0m                 \u001b[0;32mreturn\u001b[0m \u001b[0;32mTrue\u001b[0m\u001b[0;34m\u001b[0m\u001b[0;34m\u001b[0m\u001b[0m\n\u001b[1;32m    920\u001b[0m \u001b[0;34m\u001b[0m\u001b[0m\n",
      "\u001b[0;32m/scratch/midway2/achyutha11/miniconda3/envs/scikit/lib/python3.8/site-packages/zarr/util.py\u001b[0m in \u001b[0;36m_ipython_display_\u001b[0;34m(self)\u001b[0m\n\u001b[1;32m    492\u001b[0m \u001b[0;34m\u001b[0m\u001b[0m\n\u001b[1;32m    493\u001b[0m     \u001b[0;32mdef\u001b[0m \u001b[0m_ipython_display_\u001b[0m\u001b[0;34m(\u001b[0m\u001b[0mself\u001b[0m\u001b[0;34m)\u001b[0m\u001b[0;34m:\u001b[0m\u001b[0;34m\u001b[0m\u001b[0;34m\u001b[0m\u001b[0m\n\u001b[0;32m--> 494\u001b[0;31m         \u001b[0mtree\u001b[0m \u001b[0;34m=\u001b[0m \u001b[0mtree_widget\u001b[0m\u001b[0;34m(\u001b[0m\u001b[0mself\u001b[0m\u001b[0;34m.\u001b[0m\u001b[0mgroup\u001b[0m\u001b[0;34m,\u001b[0m \u001b[0mexpand\u001b[0m\u001b[0;34m=\u001b[0m\u001b[0mself\u001b[0m\u001b[0;34m.\u001b[0m\u001b[0mexpand\u001b[0m\u001b[0;34m,\u001b[0m \u001b[0mlevel\u001b[0m\u001b[0;34m=\u001b[0m\u001b[0mself\u001b[0m\u001b[0;34m.\u001b[0m\u001b[0mlevel\u001b[0m\u001b[0;34m)\u001b[0m\u001b[0;34m\u001b[0m\u001b[0;34m\u001b[0m\u001b[0m\n\u001b[0m\u001b[1;32m    495\u001b[0m         \u001b[0mtree\u001b[0m\u001b[0;34m.\u001b[0m\u001b[0m_ipython_display_\u001b[0m\u001b[0;34m(\u001b[0m\u001b[0;34m)\u001b[0m\u001b[0;34m\u001b[0m\u001b[0;34m\u001b[0m\u001b[0m\n\u001b[1;32m    496\u001b[0m         \u001b[0;32mreturn\u001b[0m \u001b[0mtree\u001b[0m\u001b[0;34m\u001b[0m\u001b[0;34m\u001b[0m\u001b[0m\n",
      "\u001b[0;32m/scratch/midway2/achyutha11/miniconda3/envs/scikit/lib/python3.8/site-packages/zarr/util.py\u001b[0m in \u001b[0;36mtree_widget\u001b[0;34m(group, expand, level)\u001b[0m\n\u001b[1;32m    429\u001b[0m \u001b[0;34m\u001b[0m\u001b[0m\n\u001b[1;32m    430\u001b[0m \u001b[0;32mdef\u001b[0m \u001b[0mtree_widget\u001b[0m\u001b[0;34m(\u001b[0m\u001b[0mgroup\u001b[0m\u001b[0;34m,\u001b[0m \u001b[0mexpand\u001b[0m\u001b[0;34m,\u001b[0m \u001b[0mlevel\u001b[0m\u001b[0;34m)\u001b[0m\u001b[0;34m:\u001b[0m\u001b[0;34m\u001b[0m\u001b[0;34m\u001b[0m\u001b[0m\n\u001b[0;32m--> 431\u001b[0;31m     \u001b[0;32mimport\u001b[0m \u001b[0mipytree\u001b[0m\u001b[0;34m\u001b[0m\u001b[0;34m\u001b[0m\u001b[0m\n\u001b[0m\u001b[1;32m    432\u001b[0m \u001b[0;34m\u001b[0m\u001b[0m\n\u001b[1;32m    433\u001b[0m     \u001b[0mresult\u001b[0m \u001b[0;34m=\u001b[0m \u001b[0mipytree\u001b[0m\u001b[0;34m.\u001b[0m\u001b[0mTree\u001b[0m\u001b[0;34m(\u001b[0m\u001b[0;34m)\u001b[0m\u001b[0;34m\u001b[0m\u001b[0;34m\u001b[0m\u001b[0m\n",
      "\u001b[0;31mModuleNotFoundError\u001b[0m: No module named 'ipytree'"
     ]
    },
    {
     "data": {
      "text/plain": [
       "/\n",
       " └── 22\n",
       "     ├── calldata\n",
       "     │   └── GT (1103547, 2504, 2) int8\n",
       "     ├── samples (2504,) object\n",
       "     └── variants\n",
       "         ├── AA (1103547,) object\n",
       "         ├── AC (1103547, 3) int32\n",
       "         ├── AF (1103547, 3) float32\n",
       "         ├── AFR_AF (1103547, 3) float32\n",
       "         ├── ALT (1103547, 3) object\n",
       "         ├── AMR_AF (1103547, 3) float32\n",
       "         ├── AN (1103547,) int32\n",
       "         ├── CHROM (1103547,) object\n",
       "         ├── CIEND (1103547, 2) int32\n",
       "         ├── CIPOS (1103547, 2) int32\n",
       "         ├── CS (1103547,) object\n",
       "         ├── DP (1103547,) int32\n",
       "         ├── EAS_AF (1103547, 3) float32\n",
       "         ├── END (1103547,) int32\n",
       "         ├── EUR_AF (1103547, 3) float32\n",
       "         ├── EX_TARGET (1103547,) bool\n",
       "         ├── FILTER_PASS (1103547,) bool\n",
       "         ├── ID (1103547,) object\n",
       "         ├── IMPRECISE (1103547,) bool\n",
       "         ├── MC (1103547,) object\n",
       "         ├── MEINFO (1103547, 4) object\n",
       "         ├── MEND (1103547,) int32\n",
       "         ├── MLEN (1103547,) int32\n",
       "         ├── MSTART (1103547,) int32\n",
       "         ├── MULTI_ALLELIC (1103547,) bool\n",
       "         ├── NS (1103547,) int32\n",
       "         ├── POS (1103547,) int32\n",
       "         ├── QUAL (1103547,) float32\n",
       "         ├── REF (1103547,) object\n",
       "         ├── SAS_AF (1103547, 3) float32\n",
       "         ├── SVLEN (1103547,) int32\n",
       "         ├── SVTYPE (1103547,) object\n",
       "         ├── TSD (1103547,) object\n",
       "         ├── VT (1103547,) object\n",
       "         ├── altlen (1103547, 3) int32\n",
       "         ├── is_snp (1103547,) bool\n",
       "         └── numalt (1103547,) int32"
      ]
     },
     "execution_count": 6,
     "metadata": {},
     "output_type": "execute_result"
    }
   ],
   "source": [
    "callset = zarr.open_group(zarr_path, mode='r')\n",
    "callset.tree(expand=True)"
   ]
  },
  {
   "cell_type": "code",
   "execution_count": 7,
   "metadata": {},
   "outputs": [
    {
     "data": {
      "text/html": [
       "<div class=\"allel allel-DisplayAs2D\"><span>&lt;GenotypeChunkedArray shape=(1103547, 2504, 2) dtype=int8 chunks=(65536, 64, 2)\n",
       "   nbytes=5.1G cbytes=279.9M cratio=18.8\n",
       "   compression=blosc compression_opts={'cname': 'lz4', 'clevel': 5, 'shuffle': 1, 'blocksize': 0}\n",
       "   values=zarr.core.Array&gt;</span><table><thead><tr><th></th><th style=\"text-align: center\">0</th><th style=\"text-align: center\">1</th><th style=\"text-align: center\">2</th><th style=\"text-align: center\">3</th><th style=\"text-align: center\">4</th><th style=\"text-align: center\">...</th><th style=\"text-align: center\">2499</th><th style=\"text-align: center\">2500</th><th style=\"text-align: center\">2501</th><th style=\"text-align: center\">2502</th><th style=\"text-align: center\">2503</th></tr></thead><tbody><tr><th style=\"text-align: center; background-color: white; border-right: 1px solid black; \">0</th><td style=\"text-align: center\">0/0</td><td style=\"text-align: center\">0/0</td><td style=\"text-align: center\">0/0</td><td style=\"text-align: center\">0/0</td><td style=\"text-align: center\">0/0</td><td style=\"text-align: center\">...</td><td style=\"text-align: center\">0/0</td><td style=\"text-align: center\">0/0</td><td style=\"text-align: center\">0/0</td><td style=\"text-align: center\">0/0</td><td style=\"text-align: center\">0/0</td></tr><tr><th style=\"text-align: center; background-color: white; border-right: 1px solid black; \">1</th><td style=\"text-align: center\">0/0</td><td style=\"text-align: center\">0/0</td><td style=\"text-align: center\">0/0</td><td style=\"text-align: center\">0/0</td><td style=\"text-align: center\">0/0</td><td style=\"text-align: center\">...</td><td style=\"text-align: center\">0/0</td><td style=\"text-align: center\">0/0</td><td style=\"text-align: center\">0/0</td><td style=\"text-align: center\">0/0</td><td style=\"text-align: center\">0/0</td></tr><tr><th style=\"text-align: center; background-color: white; border-right: 1px solid black; \">2</th><td style=\"text-align: center\">0/0</td><td style=\"text-align: center\">0/0</td><td style=\"text-align: center\">0/0</td><td style=\"text-align: center\">0/0</td><td style=\"text-align: center\">0/0</td><td style=\"text-align: center\">...</td><td style=\"text-align: center\">0/0</td><td style=\"text-align: center\">0/0</td><td style=\"text-align: center\">0/0</td><td style=\"text-align: center\">0/0</td><td style=\"text-align: center\">0/0</td></tr><tr><th style=\"text-align: center; background-color: white; border-right: 1px solid black; \">...</th><td style=\"text-align: center\" colspan=\"12\">...</td></tr><tr><th style=\"text-align: center; background-color: white; border-right: 1px solid black; \">1103544</th><td style=\"text-align: center\">0/0</td><td style=\"text-align: center\">0/0</td><td style=\"text-align: center\">0/0</td><td style=\"text-align: center\">0/0</td><td style=\"text-align: center\">0/0</td><td style=\"text-align: center\">...</td><td style=\"text-align: center\">0/0</td><td style=\"text-align: center\">0/0</td><td style=\"text-align: center\">0/0</td><td style=\"text-align: center\">0/0</td><td style=\"text-align: center\">0/0</td></tr><tr><th style=\"text-align: center; background-color: white; border-right: 1px solid black; \">1103545</th><td style=\"text-align: center\">0/0</td><td style=\"text-align: center\">0/0</td><td style=\"text-align: center\">0/0</td><td style=\"text-align: center\">0/0</td><td style=\"text-align: center\">0/0</td><td style=\"text-align: center\">...</td><td style=\"text-align: center\">0/0</td><td style=\"text-align: center\">0/0</td><td style=\"text-align: center\">0/0</td><td style=\"text-align: center\">0/0</td><td style=\"text-align: center\">0/0</td></tr><tr><th style=\"text-align: center; background-color: white; border-right: 1px solid black; \">1103546</th><td style=\"text-align: center\">0/0</td><td style=\"text-align: center\">0/0</td><td style=\"text-align: center\">0/0</td><td style=\"text-align: center\">0/0</td><td style=\"text-align: center\">0/0</td><td style=\"text-align: center\">...</td><td style=\"text-align: center\">0/0</td><td style=\"text-align: center\">0/0</td><td style=\"text-align: center\">0/0</td><td style=\"text-align: center\">0/0</td><td style=\"text-align: center\">0/0</td></tr></tbody></table></div>"
      ],
      "text/plain": [
       "<GenotypeChunkedArray shape=(1103547, 2504, 2) dtype=int8 chunks=(65536, 64, 2)\n",
       "   nbytes=5.1G cbytes=279.9M cratio=18.8\n",
       "   compression=blosc compression_opts={'cname': 'lz4', 'clevel': 5, 'shuffle': 1, 'blocksize': 0}\n",
       "   values=zarr.core.Array>"
      ]
     },
     "execution_count": 7,
     "metadata": {},
     "output_type": "execute_result"
    }
   ],
   "source": [
    "g = allel.GenotypeChunkedArray(callset['22/calldata/GT'])\n",
    "g"
   ]
  },
  {
   "cell_type": "code",
   "execution_count": 8,
   "metadata": {},
   "outputs": [
    {
     "data": {
      "text/html": [
       "<div class=\"allel allel-DisplayAs2D\"><span>&lt;AlleleCountsArray shape=(1103547, 9) dtype=int32&gt;</span><table><thead><tr><th></th><th style=\"text-align: center\">0</th><th style=\"text-align: center\">1</th><th style=\"text-align: center\">2</th><th style=\"text-align: center\">3</th><th style=\"text-align: center\">4</th><th style=\"text-align: center\">5</th><th style=\"text-align: center\">6</th><th style=\"text-align: center\">7</th><th style=\"text-align: center\">8</th></tr></thead><tbody><tr><th style=\"text-align: center; background-color: white; border-right: 1px solid black; \">0</th><td style=\"text-align: center\">5007</td><td style=\"text-align: center\">   1</td><td style=\"text-align: center\">   0</td><td style=\"text-align: center\">   0</td><td style=\"text-align: center\">   0</td><td style=\"text-align: center\">   0</td><td style=\"text-align: center\">   0</td><td style=\"text-align: center\">   0</td><td style=\"text-align: center\">   0</td></tr><tr><th style=\"text-align: center; background-color: white; border-right: 1px solid black; \">1</th><td style=\"text-align: center\">4976</td><td style=\"text-align: center\">  32</td><td style=\"text-align: center\">   0</td><td style=\"text-align: center\">   0</td><td style=\"text-align: center\">   0</td><td style=\"text-align: center\">   0</td><td style=\"text-align: center\">   0</td><td style=\"text-align: center\">   0</td><td style=\"text-align: center\">   0</td></tr><tr><th style=\"text-align: center; background-color: white; border-right: 1px solid black; \">2</th><td style=\"text-align: center\">4970</td><td style=\"text-align: center\">  38</td><td style=\"text-align: center\">   0</td><td style=\"text-align: center\">   0</td><td style=\"text-align: center\">   0</td><td style=\"text-align: center\">   0</td><td style=\"text-align: center\">   0</td><td style=\"text-align: center\">   0</td><td style=\"text-align: center\">   0</td></tr><tr><th style=\"text-align: center; background-color: white; border-right: 1px solid black; \">...</th><td style=\"text-align: center\" colspan=\"10\">...</td></tr><tr><th style=\"text-align: center; background-color: white; border-right: 1px solid black; \">1103544</th><td style=\"text-align: center\">4969</td><td style=\"text-align: center\">  39</td><td style=\"text-align: center\">   0</td><td style=\"text-align: center\">   0</td><td style=\"text-align: center\">   0</td><td style=\"text-align: center\">   0</td><td style=\"text-align: center\">   0</td><td style=\"text-align: center\">   0</td><td style=\"text-align: center\">   0</td></tr><tr><th style=\"text-align: center; background-color: white; border-right: 1px solid black; \">1103545</th><td style=\"text-align: center\">5007</td><td style=\"text-align: center\">   1</td><td style=\"text-align: center\">   0</td><td style=\"text-align: center\">   0</td><td style=\"text-align: center\">   0</td><td style=\"text-align: center\">   0</td><td style=\"text-align: center\">   0</td><td style=\"text-align: center\">   0</td><td style=\"text-align: center\">   0</td></tr><tr><th style=\"text-align: center; background-color: white; border-right: 1px solid black; \">1103546</th><td style=\"text-align: center\">4989</td><td style=\"text-align: center\">  19</td><td style=\"text-align: center\">   0</td><td style=\"text-align: center\">   0</td><td style=\"text-align: center\">   0</td><td style=\"text-align: center\">   0</td><td style=\"text-align: center\">   0</td><td style=\"text-align: center\">   0</td><td style=\"text-align: center\">   0</td></tr></tbody></table></div>"
      ],
      "text/plain": [
       "<AlleleCountsArray shape=(1103547, 9) dtype=int32>\n",
       "5007    1    0    0    0    0    0    0    0\n",
       "4976   32    0    0    0    0    0    0    0\n",
       "4970   38    0    0    0    0    0    0    0\n",
       "...\n",
       "4969   39    0    0    0    0    0    0    0\n",
       "5007    1    0    0    0    0    0    0    0\n",
       "4989   19    0    0    0    0    0    0    0"
      ]
     },
     "execution_count": 8,
     "metadata": {},
     "output_type": "execute_result"
    }
   ],
   "source": [
    "ac = g.count_alleles()[:]\n",
    "ac"
   ]
  },
  {
   "cell_type": "code",
   "execution_count": 9,
   "metadata": {},
   "outputs": [
    {
     "data": {
      "text/plain": [
       "6346"
      ]
     },
     "execution_count": 9,
     "metadata": {},
     "output_type": "execute_result"
    }
   ],
   "source": [
    "np.count_nonzero(ac.max_allele()>1)"
   ]
  },
  {
   "cell_type": "code",
   "execution_count": 10,
   "metadata": {},
   "outputs": [
    {
     "data": {
      "text/plain": [
       "453783"
      ]
     },
     "execution_count": 10,
     "metadata": {},
     "output_type": "execute_result"
    }
   ],
   "source": [
    "np.count_nonzero((ac.max_allele()==1) & ac.is_singleton(1))"
   ]
  },
  {
   "cell_type": "code",
   "execution_count": 11,
   "metadata": {},
   "outputs": [
    {
     "data": {
      "text/html": [
       "<div class=\"allel allel-DisplayAs2D\"><span>&lt;GenotypeChunkedArray shape=(639250, 2504, 2) dtype=int8 chunks=(625, 2504, 2)\n",
       "   nbytes=3.0G cbytes=277.8M cratio=11.0\n",
       "   compression=blosc compression_opts={'cname': 'lz4', 'clevel': 5, 'shuffle': 1, 'blocksize': 0}\n",
       "   values=zarr.core.Array&gt;</span><table><thead><tr><th></th><th style=\"text-align: center\">0</th><th style=\"text-align: center\">1</th><th style=\"text-align: center\">2</th><th style=\"text-align: center\">3</th><th style=\"text-align: center\">4</th><th style=\"text-align: center\">...</th><th style=\"text-align: center\">2499</th><th style=\"text-align: center\">2500</th><th style=\"text-align: center\">2501</th><th style=\"text-align: center\">2502</th><th style=\"text-align: center\">2503</th></tr></thead><tbody><tr><th style=\"text-align: center; background-color: white; border-right: 1px solid black; \">0</th><td style=\"text-align: center\">0/0</td><td style=\"text-align: center\">0/0</td><td style=\"text-align: center\">0/0</td><td style=\"text-align: center\">0/0</td><td style=\"text-align: center\">0/0</td><td style=\"text-align: center\">...</td><td style=\"text-align: center\">0/0</td><td style=\"text-align: center\">0/0</td><td style=\"text-align: center\">0/0</td><td style=\"text-align: center\">0/0</td><td style=\"text-align: center\">0/0</td></tr><tr><th style=\"text-align: center; background-color: white; border-right: 1px solid black; \">1</th><td style=\"text-align: center\">0/0</td><td style=\"text-align: center\">0/0</td><td style=\"text-align: center\">0/0</td><td style=\"text-align: center\">0/0</td><td style=\"text-align: center\">0/0</td><td style=\"text-align: center\">...</td><td style=\"text-align: center\">0/0</td><td style=\"text-align: center\">0/0</td><td style=\"text-align: center\">0/0</td><td style=\"text-align: center\">0/0</td><td style=\"text-align: center\">0/0</td></tr><tr><th style=\"text-align: center; background-color: white; border-right: 1px solid black; \">2</th><td style=\"text-align: center\">0/0</td><td style=\"text-align: center\">0/0</td><td style=\"text-align: center\">0/0</td><td style=\"text-align: center\">0/0</td><td style=\"text-align: center\">0/0</td><td style=\"text-align: center\">...</td><td style=\"text-align: center\">0/0</td><td style=\"text-align: center\">0/0</td><td style=\"text-align: center\">0/0</td><td style=\"text-align: center\">0/0</td><td style=\"text-align: center\">0/0</td></tr><tr><th style=\"text-align: center; background-color: white; border-right: 1px solid black; \">...</th><td style=\"text-align: center\" colspan=\"12\">...</td></tr><tr><th style=\"text-align: center; background-color: white; border-right: 1px solid black; \">639247</th><td style=\"text-align: center\">0/0</td><td style=\"text-align: center\">0/0</td><td style=\"text-align: center\">0/0</td><td style=\"text-align: center\">0/0</td><td style=\"text-align: center\">0/0</td><td style=\"text-align: center\">...</td><td style=\"text-align: center\">0/1</td><td style=\"text-align: center\">0/0</td><td style=\"text-align: center\">0/0</td><td style=\"text-align: center\">0/0</td><td style=\"text-align: center\">0/0</td></tr><tr><th style=\"text-align: center; background-color: white; border-right: 1px solid black; \">639248</th><td style=\"text-align: center\">0/0</td><td style=\"text-align: center\">0/0</td><td style=\"text-align: center\">0/0</td><td style=\"text-align: center\">0/0</td><td style=\"text-align: center\">0/0</td><td style=\"text-align: center\">...</td><td style=\"text-align: center\">0/0</td><td style=\"text-align: center\">0/0</td><td style=\"text-align: center\">0/0</td><td style=\"text-align: center\">0/0</td><td style=\"text-align: center\">0/0</td></tr><tr><th style=\"text-align: center; background-color: white; border-right: 1px solid black; \">639249</th><td style=\"text-align: center\">0/0</td><td style=\"text-align: center\">0/0</td><td style=\"text-align: center\">0/0</td><td style=\"text-align: center\">0/0</td><td style=\"text-align: center\">0/0</td><td style=\"text-align: center\">...</td><td style=\"text-align: center\">0/0</td><td style=\"text-align: center\">0/0</td><td style=\"text-align: center\">0/0</td><td style=\"text-align: center\">0/0</td><td style=\"text-align: center\">0/0</td></tr></tbody></table></div>"
      ],
      "text/plain": [
       "<GenotypeChunkedArray shape=(639250, 2504, 2) dtype=int8 chunks=(625, 2504, 2)\n",
       "   nbytes=3.0G cbytes=277.8M cratio=11.0\n",
       "   compression=blosc compression_opts={'cname': 'lz4', 'clevel': 5, 'shuffle': 1, 'blocksize': 0}\n",
       "   values=zarr.core.Array>"
      ]
     },
     "execution_count": 11,
     "metadata": {},
     "output_type": "execute_result"
    }
   ],
   "source": [
    "flt = (ac.max_allele()==1) & (ac[:, :2].min(axis=1)>1)\n",
    "gf = g.compress(flt, axis=0)\n",
    "gf"
   ]
  },
  {
   "cell_type": "code",
   "execution_count": 12,
   "metadata": {},
   "outputs": [
    {
     "data": {
      "text/plain": [
       "<ChunkedArrayWrapper shape=(639250, 2504) dtype=int8 chunks=(1249, 2504)\n",
       "   nbytes=1.5G cbytes=174.1M cratio=8.8\n",
       "   compression=blosc compression_opts={'cname': 'lz4', 'clevel': 5, 'shuffle': 1, 'blocksize': 0}\n",
       "   values=zarr.core.Array>"
      ]
     },
     "execution_count": 12,
     "metadata": {},
     "output_type": "execute_result"
    }
   ],
   "source": [
    "gn = gf.to_n_alt()\n",
    "gn"
   ]
  },
  {
   "cell_type": "code",
   "execution_count": 13,
   "metadata": {},
   "outputs": [],
   "source": [
    "def plot_ld(gn, title):\n",
    "    m = allel.rogers_huff_r(gn) ** 2\n",
    "    ax = allel.plot_pairwise_ld(m)\n",
    "    ax.set_title(title)"
   ]
  },
  {
   "cell_type": "code",
   "execution_count": 14,
   "metadata": {},
   "outputs": [
    {
     "data": {
      "image/png": "[encoded data removed]",
      "text/plain": [
       "<Figure size 1000x1000 with 2 Axes>"
      ]
     },
     "metadata": {
      "needs_background": "light"
     },
     "output_type": "display_data"
    }
   ],
   "source": [
    "plot_ld(gn[:1000],'Figure 1: Pairwise LD')"
   ]
  },
  {
   "cell_type": "code",
   "execution_count": 15,
   "metadata": {},
   "outputs": [],
   "source": [
    "# Trying a different way to get only CEU\n",
    "panel_path = '../../../data/external_public/1kg_phase3/haps/integrated_call_samples_v3.20130502.ALL.panel'"
   ]
  },
  {
   "cell_type": "code",
   "execution_count": 16,
   "metadata": {},
   "outputs": [
    {
     "name": "stdout",
     "output_type": "stream",
     "text": [
      "sample\tpop\tsuper_pop\tgender\t\t\n",
      "HG00096\tGBR\tEUR\tmale\n",
      "HG00097\tGBR\tEUR\tfemale\n",
      "HG00099\tGBR\tEUR\tfemale\n",
      "HG00100\tGBR\tEUR\tfemale\n",
      "HG00101\tGBR\tEUR\tmale\n",
      "HG00102\tGBR\tEUR\tfemale\n",
      "HG00103\tGBR\tEUR\tmale\n",
      "HG00105\tGBR\tEUR\tmale\n",
      "HG00106\tGBR\tEUR\tfemale\n"
     ]
    }
   ],
   "source": [
    "!head {panel_path}"
   ]
  },
  {
   "cell_type": "code",
   "execution_count": 17,
   "metadata": {},
   "outputs": [],
   "source": [
    "import pandas"
   ]
  },
  {
   "cell_type": "code",
   "execution_count": 18,
   "metadata": {},
   "outputs": [
    {
     "data": {
      "text/html": [
       "<div>\n",
       "<style scoped>\n",
       "    .dataframe tbody tr th:only-of-type {\n",
       "        vertical-align: middle;\n",
       "    }\n",
       "\n",
       "    .dataframe tbody tr th {\n",
       "        vertical-align: top;\n",
       "    }\n",
       "\n",
       "    .dataframe thead th {\n",
       "        text-align: right;\n",
       "    }\n",
       "</style>\n",
       "<table border=\"1\" class=\"dataframe\">\n",
       "  <thead>\n",
       "    <tr style=\"text-align: right;\">\n",
       "      <th></th>\n",
       "      <th>sample</th>\n",
       "      <th>pop</th>\n",
       "      <th>super_pop</th>\n",
       "    </tr>\n",
       "  </thead>\n",
       "  <tbody>\n",
       "    <tr>\n",
       "      <th>0</th>\n",
       "      <td>HG00096</td>\n",
       "      <td>GBR</td>\n",
       "      <td>EUR</td>\n",
       "    </tr>\n",
       "    <tr>\n",
       "      <th>1</th>\n",
       "      <td>HG00097</td>\n",
       "      <td>GBR</td>\n",
       "      <td>EUR</td>\n",
       "    </tr>\n",
       "    <tr>\n",
       "      <th>2</th>\n",
       "      <td>HG00099</td>\n",
       "      <td>GBR</td>\n",
       "      <td>EUR</td>\n",
       "    </tr>\n",
       "    <tr>\n",
       "      <th>3</th>\n",
       "      <td>HG00100</td>\n",
       "      <td>GBR</td>\n",
       "      <td>EUR</td>\n",
       "    </tr>\n",
       "    <tr>\n",
       "      <th>4</th>\n",
       "      <td>HG00101</td>\n",
       "      <td>GBR</td>\n",
       "      <td>EUR</td>\n",
       "    </tr>\n",
       "  </tbody>\n",
       "</table>\n",
       "</div>"
      ],
      "text/plain": [
       "    sample  pop super_pop\n",
       "0  HG00096  GBR       EUR\n",
       "1  HG00097  GBR       EUR\n",
       "2  HG00099  GBR       EUR\n",
       "3  HG00100  GBR       EUR\n",
       "4  HG00101  GBR       EUR"
      ]
     },
     "execution_count": 18,
     "metadata": {},
     "output_type": "execute_result"
    }
   ],
   "source": [
    "panel = pandas.read_csv(panel_path, sep='\\t',usecols=['sample','pop','super_pop'])\n",
    "panel.head()"
   ]
  },
  {
   "cell_type": "code",
   "execution_count": 19,
   "metadata": {},
   "outputs": [
    {
     "data": {
      "text/html": [
       "<div>\n",
       "<style scoped>\n",
       "    .dataframe tbody tr th:only-of-type {\n",
       "        vertical-align: middle;\n",
       "    }\n",
       "\n",
       "    .dataframe tbody tr th {\n",
       "        vertical-align: top;\n",
       "    }\n",
       "\n",
       "    .dataframe thead th {\n",
       "        text-align: right;\n",
       "    }\n",
       "</style>\n",
       "<table border=\"1\" class=\"dataframe\">\n",
       "  <thead>\n",
       "    <tr style=\"text-align: right;\">\n",
       "      <th></th>\n",
       "      <th></th>\n",
       "      <th>sample</th>\n",
       "    </tr>\n",
       "    <tr>\n",
       "      <th>super_pop</th>\n",
       "      <th>pop</th>\n",
       "      <th></th>\n",
       "    </tr>\n",
       "  </thead>\n",
       "  <tbody>\n",
       "    <tr>\n",
       "      <th rowspan=\"7\" valign=\"top\">AFR</th>\n",
       "      <th>ACB</th>\n",
       "      <td>96</td>\n",
       "    </tr>\n",
       "    <tr>\n",
       "      <th>ASW</th>\n",
       "      <td>61</td>\n",
       "    </tr>\n",
       "    <tr>\n",
       "      <th>ESN</th>\n",
       "      <td>99</td>\n",
       "    </tr>\n",
       "    <tr>\n",
       "      <th>GWD</th>\n",
       "      <td>113</td>\n",
       "    </tr>\n",
       "    <tr>\n",
       "      <th>LWK</th>\n",
       "      <td>99</td>\n",
       "    </tr>\n",
       "    <tr>\n",
       "      <th>MSL</th>\n",
       "      <td>85</td>\n",
       "    </tr>\n",
       "    <tr>\n",
       "      <th>YRI</th>\n",
       "      <td>108</td>\n",
       "    </tr>\n",
       "    <tr>\n",
       "      <th rowspan=\"4\" valign=\"top\">AMR</th>\n",
       "      <th>CLM</th>\n",
       "      <td>94</td>\n",
       "    </tr>\n",
       "    <tr>\n",
       "      <th>MXL</th>\n",
       "      <td>64</td>\n",
       "    </tr>\n",
       "    <tr>\n",
       "      <th>PEL</th>\n",
       "      <td>85</td>\n",
       "    </tr>\n",
       "    <tr>\n",
       "      <th>PUR</th>\n",
       "      <td>104</td>\n",
       "    </tr>\n",
       "    <tr>\n",
       "      <th rowspan=\"5\" valign=\"top\">EAS</th>\n",
       "      <th>CDX</th>\n",
       "      <td>93</td>\n",
       "    </tr>\n",
       "    <tr>\n",
       "      <th>CHB</th>\n",
       "      <td>103</td>\n",
       "    </tr>\n",
       "    <tr>\n",
       "      <th>CHS</th>\n",
       "      <td>105</td>\n",
       "    </tr>\n",
       "    <tr>\n",
       "      <th>JPT</th>\n",
       "      <td>104</td>\n",
       "    </tr>\n",
       "    <tr>\n",
       "      <th>KHV</th>\n",
       "      <td>99</td>\n",
       "    </tr>\n",
       "    <tr>\n",
       "      <th rowspan=\"5\" valign=\"top\">EUR</th>\n",
       "      <th>CEU</th>\n",
       "      <td>99</td>\n",
       "    </tr>\n",
       "    <tr>\n",
       "      <th>FIN</th>\n",
       "      <td>99</td>\n",
       "    </tr>\n",
       "    <tr>\n",
       "      <th>GBR</th>\n",
       "      <td>91</td>\n",
       "    </tr>\n",
       "    <tr>\n",
       "      <th>IBS</th>\n",
       "      <td>107</td>\n",
       "    </tr>\n",
       "    <tr>\n",
       "      <th>TSI</th>\n",
       "      <td>107</td>\n",
       "    </tr>\n",
       "    <tr>\n",
       "      <th rowspan=\"5\" valign=\"top\">SAS</th>\n",
       "      <th>BEB</th>\n",
       "      <td>86</td>\n",
       "    </tr>\n",
       "    <tr>\n",
       "      <th>GIH</th>\n",
       "      <td>103</td>\n",
       "    </tr>\n",
       "    <tr>\n",
       "      <th>ITU</th>\n",
       "      <td>102</td>\n",
       "    </tr>\n",
       "    <tr>\n",
       "      <th>PJL</th>\n",
       "      <td>96</td>\n",
       "    </tr>\n",
       "    <tr>\n",
       "      <th>STU</th>\n",
       "      <td>102</td>\n",
       "    </tr>\n",
       "  </tbody>\n",
       "</table>\n",
       "</div>"
      ],
      "text/plain": [
       "               sample\n",
       "super_pop pop        \n",
       "AFR       ACB      96\n",
       "          ASW      61\n",
       "          ESN      99\n",
       "          GWD     113\n",
       "          LWK      99\n",
       "          MSL      85\n",
       "          YRI     108\n",
       "AMR       CLM      94\n",
       "          MXL      64\n",
       "          PEL      85\n",
       "          PUR     104\n",
       "EAS       CDX      93\n",
       "          CHB     103\n",
       "          CHS     105\n",
       "          JPT     104\n",
       "          KHV      99\n",
       "EUR       CEU      99\n",
       "          FIN      99\n",
       "          GBR      91\n",
       "          IBS     107\n",
       "          TSI     107\n",
       "SAS       BEB      86\n",
       "          GIH     103\n",
       "          ITU     102\n",
       "          PJL      96\n",
       "          STU     102"
      ]
     },
     "execution_count": 19,
     "metadata": {},
     "output_type": "execute_result"
    }
   ],
   "source": [
    "panel.groupby(by=(['super_pop','pop'])).count()"
   ]
  },
  {
   "cell_type": "code",
   "execution_count": 20,
   "metadata": {},
   "outputs": [
    {
     "data": {
      "text/plain": [
       "array(['HG00096', 'HG00097', 'HG00099', ..., 'NA21142', 'NA21143',\n",
       "       'NA21144'], dtype=object)"
      ]
     },
     "execution_count": 20,
     "metadata": {},
     "output_type": "execute_result"
    }
   ],
   "source": [
    "samples = callset['22/samples'][:]\n",
    "samples"
   ]
  },
  {
   "cell_type": "code",
   "execution_count": 21,
   "metadata": {},
   "outputs": [
    {
     "data": {
      "text/plain": [
       "True"
      ]
     },
     "execution_count": 21,
     "metadata": {},
     "output_type": "execute_result"
    }
   ],
   "source": [
    "np.all(samples==panel['sample'].values)"
   ]
  },
  {
   "cell_type": "code",
   "execution_count": 22,
   "metadata": {},
   "outputs": [
    {
     "data": {
      "text/plain": [
       "array([1656, 1657, 1658, 1659, 1660, 1661, 1662, 1663, 1664, 1665, 1666,\n",
       "       1667, 1668, 1669, 1670, 1671, 1672, 1673, 1674, 1675, 1676, 1677,\n",
       "       1678, 1679, 1680, 1681, 1682, 1683, 1684, 1685, 1686, 1687, 1688,\n",
       "       1689, 1690, 1691, 1692, 1693, 1694, 1695, 1696, 1697, 1698, 1699,\n",
       "       1700, 1701, 1702, 1703, 1704, 1705, 1706, 1707, 1708, 1709, 1710,\n",
       "       1711, 1712, 1713, 1714, 1715, 1716, 1717, 1718, 1719, 1720, 1721,\n",
       "       1722, 1723, 1724, 1725, 1726, 1727, 1728, 1729, 1730, 1731, 1732,\n",
       "       1733, 1734, 1735, 1736, 1737, 1738, 1739, 1740, 1741, 1742, 1743,\n",
       "       1744, 1745, 1746, 1747, 1748, 1749, 1750, 1751, 1752, 1753, 1754])"
      ]
     },
     "execution_count": 22,
     "metadata": {},
     "output_type": "execute_result"
    }
   ],
   "source": [
    "loc_samples_ceu = panel[panel['pop']=='CEU'].index.values\n",
    "loc_samples_ceu"
   ]
  },
  {
   "cell_type": "code",
   "execution_count": 23,
   "metadata": {},
   "outputs": [
    {
     "data": {
      "text/plain": [
       "99"
      ]
     },
     "execution_count": 23,
     "metadata": {},
     "output_type": "execute_result"
    }
   ],
   "source": [
    "len(loc_samples_ceu)"
   ]
  },
  {
   "cell_type": "code",
   "execution_count": 24,
   "metadata": {},
   "outputs": [
    {
     "data": {
      "text/html": [
       "<div class=\"allel allel-DisplayAs2D\"><span>&lt;GenotypeChunkedArray shape=(1103547, 99, 2) dtype=int8 chunks=(8622, 99, 2)\n",
       "   nbytes=208.4M cbytes=10.0M cratio=20.9\n",
       "   compression=blosc compression_opts={'cname': 'lz4', 'clevel': 5, 'shuffle': 1, 'blocksize': 0}\n",
       "   values=zarr.core.Array&gt;</span><table><thead><tr><th></th><th style=\"text-align: center\">0</th><th style=\"text-align: center\">1</th><th style=\"text-align: center\">2</th><th style=\"text-align: center\">3</th><th style=\"text-align: center\">4</th><th style=\"text-align: center\">...</th><th style=\"text-align: center\">94</th><th style=\"text-align: center\">95</th><th style=\"text-align: center\">96</th><th style=\"text-align: center\">97</th><th style=\"text-align: center\">98</th></tr></thead><tbody><tr><th style=\"text-align: center; background-color: white; border-right: 1px solid black; \">0</th><td style=\"text-align: center\">0/0</td><td style=\"text-align: center\">0/0</td><td style=\"text-align: center\">0/0</td><td style=\"text-align: center\">0/0</td><td style=\"text-align: center\">0/0</td><td style=\"text-align: center\">...</td><td style=\"text-align: center\">0/0</td><td style=\"text-align: center\">0/0</td><td style=\"text-align: center\">0/0</td><td style=\"text-align: center\">0/0</td><td style=\"text-align: center\">0/0</td></tr><tr><th style=\"text-align: center; background-color: white; border-right: 1px solid black; \">1</th><td style=\"text-align: center\">0/0</td><td style=\"text-align: center\">0/0</td><td style=\"text-align: center\">0/0</td><td style=\"text-align: center\">0/0</td><td style=\"text-align: center\">0/0</td><td style=\"text-align: center\">...</td><td style=\"text-align: center\">0/0</td><td style=\"text-align: center\">0/0</td><td style=\"text-align: center\">0/0</td><td style=\"text-align: center\">0/0</td><td style=\"text-align: center\">0/0</td></tr><tr><th style=\"text-align: center; background-color: white; border-right: 1px solid black; \">2</th><td style=\"text-align: center\">0/0</td><td style=\"text-align: center\">0/0</td><td style=\"text-align: center\">0/0</td><td style=\"text-align: center\">0/0</td><td style=\"text-align: center\">0/0</td><td style=\"text-align: center\">...</td><td style=\"text-align: center\">0/0</td><td style=\"text-align: center\">0/0</td><td style=\"text-align: center\">0/0</td><td style=\"text-align: center\">0/0</td><td style=\"text-align: center\">0/0</td></tr><tr><th style=\"text-align: center; background-color: white; border-right: 1px solid black; \">...</th><td style=\"text-align: center\" colspan=\"12\">...</td></tr><tr><th style=\"text-align: center; background-color: white; border-right: 1px solid black; \">1103544</th><td style=\"text-align: center\">0/0</td><td style=\"text-align: center\">0/0</td><td style=\"text-align: center\">0/0</td><td style=\"text-align: center\">0/0</td><td style=\"text-align: center\">0/0</td><td style=\"text-align: center\">...</td><td style=\"text-align: center\">0/0</td><td style=\"text-align: center\">0/0</td><td style=\"text-align: center\">0/0</td><td style=\"text-align: center\">0/0</td><td style=\"text-align: center\">0/0</td></tr><tr><th style=\"text-align: center; background-color: white; border-right: 1px solid black; \">1103545</th><td style=\"text-align: center\">0/0</td><td style=\"text-align: center\">0/0</td><td style=\"text-align: center\">0/0</td><td style=\"text-align: center\">0/0</td><td style=\"text-align: center\">0/0</td><td style=\"text-align: center\">...</td><td style=\"text-align: center\">0/0</td><td style=\"text-align: center\">0/0</td><td style=\"text-align: center\">0/0</td><td style=\"text-align: center\">0/0</td><td style=\"text-align: center\">0/0</td></tr><tr><th style=\"text-align: center; background-color: white; border-right: 1px solid black; \">1103546</th><td style=\"text-align: center\">0/0</td><td style=\"text-align: center\">0/0</td><td style=\"text-align: center\">0/0</td><td style=\"text-align: center\">0/0</td><td style=\"text-align: center\">0/0</td><td style=\"text-align: center\">...</td><td style=\"text-align: center\">0/0</td><td style=\"text-align: center\">0/0</td><td style=\"text-align: center\">0/0</td><td style=\"text-align: center\">0/0</td><td style=\"text-align: center\">0/0</td></tr></tbody></table></div>"
      ],
      "text/plain": [
       "<GenotypeChunkedArray shape=(1103547, 99, 2) dtype=int8 chunks=(8622, 99, 2)\n",
       "   nbytes=208.4M cbytes=10.0M cratio=20.9\n",
       "   compression=blosc compression_opts={'cname': 'lz4', 'clevel': 5, 'shuffle': 1, 'blocksize': 0}\n",
       "   values=zarr.core.Array>"
      ]
     },
     "execution_count": 24,
     "metadata": {},
     "output_type": "execute_result"
    }
   ],
   "source": [
    "gt_ceu = g.take(loc_samples_ceu,axis=1)\n",
    "gt_ceu"
   ]
  },
  {
   "cell_type": "code",
   "execution_count": 25,
   "metadata": {},
   "outputs": [
    {
     "data": {
      "text/html": [
       "<div class=\"allel allel-DisplayAs2D\"><span>&lt;AlleleCountsArray shape=(1103547, 7) dtype=int32&gt;</span><table><thead><tr><th></th><th style=\"text-align: center\">0</th><th style=\"text-align: center\">1</th><th style=\"text-align: center\">2</th><th style=\"text-align: center\">3</th><th style=\"text-align: center\">4</th><th style=\"text-align: center\">5</th><th style=\"text-align: center\">6</th></tr></thead><tbody><tr><th style=\"text-align: center; background-color: white; border-right: 1px solid black; \">0</th><td style=\"text-align: center\">198</td><td style=\"text-align: center\">  0</td><td style=\"text-align: center\">  0</td><td style=\"text-align: center\">  0</td><td style=\"text-align: center\">  0</td><td style=\"text-align: center\">  0</td><td style=\"text-align: center\">  0</td></tr><tr><th style=\"text-align: center; background-color: white; border-right: 1px solid black; \">1</th><td style=\"text-align: center\">198</td><td style=\"text-align: center\">  0</td><td style=\"text-align: center\">  0</td><td style=\"text-align: center\">  0</td><td style=\"text-align: center\">  0</td><td style=\"text-align: center\">  0</td><td style=\"text-align: center\">  0</td></tr><tr><th style=\"text-align: center; background-color: white; border-right: 1px solid black; \">2</th><td style=\"text-align: center\">198</td><td style=\"text-align: center\">  0</td><td style=\"text-align: center\">  0</td><td style=\"text-align: center\">  0</td><td style=\"text-align: center\">  0</td><td style=\"text-align: center\">  0</td><td style=\"text-align: center\">  0</td></tr><tr><th style=\"text-align: center; background-color: white; border-right: 1px solid black; \">...</th><td style=\"text-align: center\" colspan=\"8\">...</td></tr><tr><th style=\"text-align: center; background-color: white; border-right: 1px solid black; \">1103544</th><td style=\"text-align: center\">198</td><td style=\"text-align: center\">  0</td><td style=\"text-align: center\">  0</td><td style=\"text-align: center\">  0</td><td style=\"text-align: center\">  0</td><td style=\"text-align: center\">  0</td><td style=\"text-align: center\">  0</td></tr><tr><th style=\"text-align: center; background-color: white; border-right: 1px solid black; \">1103545</th><td style=\"text-align: center\">198</td><td style=\"text-align: center\">  0</td><td style=\"text-align: center\">  0</td><td style=\"text-align: center\">  0</td><td style=\"text-align: center\">  0</td><td style=\"text-align: center\">  0</td><td style=\"text-align: center\">  0</td></tr><tr><th style=\"text-align: center; background-color: white; border-right: 1px solid black; \">1103546</th><td style=\"text-align: center\">197</td><td style=\"text-align: center\">  1</td><td style=\"text-align: center\">  0</td><td style=\"text-align: center\">  0</td><td style=\"text-align: center\">  0</td><td style=\"text-align: center\">  0</td><td style=\"text-align: center\">  0</td></tr></tbody></table></div>"
      ],
      "text/plain": [
       "<AlleleCountsArray shape=(1103547, 7) dtype=int32>\n",
       "198   0   0   0   0   0   0\n",
       "198   0   0   0   0   0   0\n",
       "198   0   0   0   0   0   0\n",
       "...\n",
       "198   0   0   0   0   0   0\n",
       "198   0   0   0   0   0   0\n",
       "197   1   0   0   0   0   0"
      ]
     },
     "execution_count": 25,
     "metadata": {},
     "output_type": "execute_result"
    }
   ],
   "source": [
    "ad = gt_ceu.count_alleles()[:]\n",
    "ad"
   ]
  },
  {
   "cell_type": "code",
   "execution_count": 26,
   "metadata": {},
   "outputs": [
    {
     "data": {
      "text/plain": [
       "2083"
      ]
     },
     "execution_count": 26,
     "metadata": {},
     "output_type": "execute_result"
    }
   ],
   "source": [
    "np.count_nonzero(ad.max_allele()>1)"
   ]
  },
  {
   "cell_type": "code",
   "execution_count": 27,
   "metadata": {},
   "outputs": [
    {
     "data": {
      "text/plain": [
       "47999"
      ]
     },
     "execution_count": 27,
     "metadata": {},
     "output_type": "execute_result"
    }
   ],
   "source": [
    "np.count_nonzero((ad.max_allele()==1)&ad.is_singleton(1))"
   ]
  },
  {
   "cell_type": "code",
   "execution_count": 28,
   "metadata": {},
   "outputs": [
    {
     "data": {
      "text/html": [
       "<div class=\"allel allel-DisplayAs2D\"><span>&lt;GenotypeChunkedArray shape=(112408, 99, 2) dtype=int8 chunks=(3513, 99, 2)\n",
       "   nbytes=21.2M cbytes=7.9M cratio=2.7\n",
       "   compression=blosc compression_opts={'cname': 'lz4', 'clevel': 5, 'shuffle': 1, 'blocksize': 0}\n",
       "   values=zarr.core.Array&gt;</span><table><thead><tr><th></th><th style=\"text-align: center\">0</th><th style=\"text-align: center\">1</th><th style=\"text-align: center\">2</th><th style=\"text-align: center\">3</th><th style=\"text-align: center\">4</th><th style=\"text-align: center\">...</th><th style=\"text-align: center\">94</th><th style=\"text-align: center\">95</th><th style=\"text-align: center\">96</th><th style=\"text-align: center\">97</th><th style=\"text-align: center\">98</th></tr></thead><tbody><tr><th style=\"text-align: center; background-color: white; border-right: 1px solid black; \">0</th><td style=\"text-align: center\">0/0</td><td style=\"text-align: center\">0/0</td><td style=\"text-align: center\">0/0</td><td style=\"text-align: center\">0/0</td><td style=\"text-align: center\">0/0</td><td style=\"text-align: center\">...</td><td style=\"text-align: center\">0/0</td><td style=\"text-align: center\">0/0</td><td style=\"text-align: center\">0/0</td><td style=\"text-align: center\">0/0</td><td style=\"text-align: center\">1/0</td></tr><tr><th style=\"text-align: center; background-color: white; border-right: 1px solid black; \">1</th><td style=\"text-align: center\">0/0</td><td style=\"text-align: center\">0/0</td><td style=\"text-align: center\">0/0</td><td style=\"text-align: center\">0/0</td><td style=\"text-align: center\">0/0</td><td style=\"text-align: center\">...</td><td style=\"text-align: center\">0/0</td><td style=\"text-align: center\">0/0</td><td style=\"text-align: center\">0/0</td><td style=\"text-align: center\">0/0</td><td style=\"text-align: center\">0/1</td></tr><tr><th style=\"text-align: center; background-color: white; border-right: 1px solid black; \">2</th><td style=\"text-align: center\">0/0</td><td style=\"text-align: center\">0/0</td><td style=\"text-align: center\">0/0</td><td style=\"text-align: center\">0/0</td><td style=\"text-align: center\">0/0</td><td style=\"text-align: center\">...</td><td style=\"text-align: center\">0/0</td><td style=\"text-align: center\">0/0</td><td style=\"text-align: center\">0/0</td><td style=\"text-align: center\">0/0</td><td style=\"text-align: center\">0/1</td></tr><tr><th style=\"text-align: center; background-color: white; border-right: 1px solid black; \">...</th><td style=\"text-align: center\" colspan=\"12\">...</td></tr><tr><th style=\"text-align: center; background-color: white; border-right: 1px solid black; \">112405</th><td style=\"text-align: center\">0/0</td><td style=\"text-align: center\">0/0</td><td style=\"text-align: center\">1/1</td><td style=\"text-align: center\">0/0</td><td style=\"text-align: center\">1/0</td><td style=\"text-align: center\">...</td><td style=\"text-align: center\">1/0</td><td style=\"text-align: center\">0/1</td><td style=\"text-align: center\">0/1</td><td style=\"text-align: center\">1/1</td><td style=\"text-align: center\">0/0</td></tr><tr><th style=\"text-align: center; background-color: white; border-right: 1px solid black; \">112406</th><td style=\"text-align: center\">0/0</td><td style=\"text-align: center\">0/1</td><td style=\"text-align: center\">0/0</td><td style=\"text-align: center\">0/0</td><td style=\"text-align: center\">0/0</td><td style=\"text-align: center\">...</td><td style=\"text-align: center\">0/0</td><td style=\"text-align: center\">1/0</td><td style=\"text-align: center\">0/0</td><td style=\"text-align: center\">0/0</td><td style=\"text-align: center\">0/1</td></tr><tr><th style=\"text-align: center; background-color: white; border-right: 1px solid black; \">112407</th><td style=\"text-align: center\">0/0</td><td style=\"text-align: center\">1/0</td><td style=\"text-align: center\">0/0</td><td style=\"text-align: center\">1/1</td><td style=\"text-align: center\">0/0</td><td style=\"text-align: center\">...</td><td style=\"text-align: center\">0/0</td><td style=\"text-align: center\">0/0</td><td style=\"text-align: center\">1/0</td><td style=\"text-align: center\">0/0</td><td style=\"text-align: center\">0/0</td></tr></tbody></table></div>"
      ],
      "text/plain": [
       "<GenotypeChunkedArray shape=(112408, 99, 2) dtype=int8 chunks=(3513, 99, 2)\n",
       "   nbytes=21.2M cbytes=7.9M cratio=2.7\n",
       "   compression=blosc compression_opts={'cname': 'lz4', 'clevel': 5, 'shuffle': 1, 'blocksize': 0}\n",
       "   values=zarr.core.Array>"
      ]
     },
     "execution_count": 28,
     "metadata": {},
     "output_type": "execute_result"
    }
   ],
   "source": [
    "flt1 = (ad.max_allele()==1) & (ad[:,:2].min(axis=1)>5)\n",
    "gf1 = gt_ceu.compress(flt1,axis=0)\n",
    "gf1"
   ]
  },
  {
   "cell_type": "code",
   "execution_count": 29,
   "metadata": {},
   "outputs": [
    {
     "data": {
      "text/plain": [
       "<ChunkedArrayWrapper shape=(112408, 99) dtype=int8 chunks=(7026, 99)\n",
       "   nbytes=10.6M cbytes=3.5M cratio=3.1\n",
       "   compression=blosc compression_opts={'cname': 'lz4', 'clevel': 5, 'shuffle': 1, 'blocksize': 0}\n",
       "   values=zarr.core.Array>"
      ]
     },
     "execution_count": 29,
     "metadata": {},
     "output_type": "execute_result"
    }
   ],
   "source": [
    "gn1 = gf1.to_n_alt()\n",
    "gn1"
   ]
  },
  {
   "cell_type": "code",
   "execution_count": 30,
   "metadata": {},
   "outputs": [],
   "source": [
    "#plot_ld(gn1[:1000],'Figure 2: CEU Pairwise LD')"
   ]
  },
  {
   "cell_type": "code",
   "execution_count": 78,
   "metadata": {},
   "outputs": [],
   "source": [
    "from scipy.spatial.distance import squareform\n",
    "from tqdm import tqdm\n",
    "\n",
    "def kxpfunc(gmat):\n",
    "    emp = np.empty((500,0),dtype='float32')\n",
    "    for i in tqdm(list(range(gmat.shape[0]-500))):\n",
    "        e = np.append(emp,(np.reshape((squareform(np.square(allel.rogers_huff_r((gmat[i:i+500,:]).to_n_alt())))[:,0]),(500,1))),axis=1)\n",
    "        emp = e\n",
    "    return emp"
   ]
  },
  {
   "cell_type": "code",
   "execution_count": 39,
   "metadata": {},
   "outputs": [
    {
     "name": "stderr",
     "output_type": "stream",
     "text": [
      "100%|██████████| 55704/55704 [1:20:06<00:00, 11.59it/s]\n"
     ]
    }
   ],
   "source": [
    "kxp1 = kxpfunc(gf1[:56204,:])"
   ]
  },
  {
   "cell_type": "code",
   "execution_count": 40,
   "metadata": {},
   "outputs": [
    {
     "data": {
      "text/plain": [
       "array([[0.0000000e+00, 0.0000000e+00, 0.0000000e+00, ..., 0.0000000e+00,\n",
       "        0.0000000e+00, 0.0000000e+00],\n",
       "       [1.2713647e-03, 8.2290477e-01, 2.6286688e-02, ..., 2.7842051e-01,\n",
       "        1.0000000e+00, 5.1878039e-02],\n",
       "       [2.3470657e-04, 3.5056219e-02, 3.2411940e-02, ..., 2.7842051e-01,\n",
       "        5.1878039e-02, 7.5970978e-02],\n",
       "       ...,\n",
       "       [6.9747196e-04, 2.8318621e-02, 5.8528211e-02, ..., 1.7158054e-01,\n",
       "        9.3995884e-02, 1.5957982e-03],\n",
       "       [5.2825683e-03, 4.6309453e-02, 9.0050623e-03, ..., 1.5782528e-01,\n",
       "        1.5957982e-03, 2.0199681e-03],\n",
       "       [5.6969975e-03, 7.2971159e-03, 3.5542224e-02, ..., 4.4230834e-05,\n",
       "        2.0199681e-03, 9.3995884e-02]], dtype=float32)"
      ]
     },
     "execution_count": 40,
     "metadata": {},
     "output_type": "execute_result"
    }
   ],
   "source": [
    "kxp1"
   ]
  },
  {
   "cell_type": "code",
   "execution_count": 63,
   "metadata": {},
   "outputs": [
    {
     "data": {
      "text/plain": [
       "(500, 55704)"
      ]
     },
     "execution_count": 63,
     "metadata": {},
     "output_type": "execute_result"
    }
   ],
   "source": [
    "kxp1.shape"
   ]
  },
  {
   "cell_type": "code",
   "execution_count": 42,
   "metadata": {},
   "outputs": [
    {
     "name": "stderr",
     "output_type": "stream",
     "text": [
      "100%|██████████| 56203/56203 [1:20:59<00:00, 11.57it/s]\n"
     ]
    }
   ],
   "source": [
    "kxp2 = kxpfunc(gf1[55705:,:])"
   ]
  },
  {
   "cell_type": "code",
   "execution_count": 64,
   "metadata": {},
   "outputs": [
    {
     "data": {
      "text/plain": [
       "array([[0.        , 0.        , 0.        , ..., 0.        , 0.        ,\n",
       "        0.        ],\n",
       "       [0.43557093, 0.43557093, 0.08813643, ..., 0.00962461, 0.08502483,\n",
       "        0.2619038 ],\n",
       "       [1.        , 0.17842394, 0.44011268, ..., 0.21745466, 0.01628778,\n",
       "        0.21459994],\n",
       "       ...,\n",
       "       [0.04198174, 0.08988358, 0.04198174, ..., 0.03961617, 0.00215173,\n",
       "        0.00743835],\n",
       "       [0.23410733, 0.19000167, 0.10128729, ..., 0.01495998, 0.01252625,\n",
       "        0.01491318],\n",
       "       [0.04198174, 0.01836894, 0.02414387, ..., 0.03319456, 0.01548595,\n",
       "        0.12671381]], dtype=float32)"
      ]
     },
     "execution_count": 64,
     "metadata": {},
     "output_type": "execute_result"
    }
   ],
   "source": [
    "kxp2"
   ]
  },
  {
   "cell_type": "code",
   "execution_count": 65,
   "metadata": {},
   "outputs": [
    {
     "data": {
      "text/plain": [
       "(500, 56203)"
      ]
     },
     "execution_count": 65,
     "metadata": {},
     "output_type": "execute_result"
    }
   ],
   "source": [
    "kxp2.shape"
   ]
  },
  {
   "cell_type": "code",
   "execution_count": 68,
   "metadata": {},
   "outputs": [
    {
     "name": "stderr",
     "output_type": "stream",
     "text": [
      "0it [00:00, ?it/s]\n"
     ]
    }
   ],
   "source": [
    "kxp3 = kxpfunc(gf1[55704,:])"
   ]
  },
  {
   "cell_type": "code",
   "execution_count": 69,
   "metadata": {},
   "outputs": [
    {
     "data": {
      "text/plain": [
       "array([], shape=(500, 0), dtype=float32)"
      ]
     },
     "execution_count": 69,
     "metadata": {},
     "output_type": "execute_result"
    }
   ],
   "source": [
    "kxp3"
   ]
  },
  {
   "cell_type": "code",
   "execution_count": 46,
   "metadata": {},
   "outputs": [],
   "source": [
    "kxpreal = np.concatenate((kxp1,kxp2),axis=1)"
   ]
  },
  {
   "cell_type": "code",
   "execution_count": 53,
   "metadata": {},
   "outputs": [
    {
     "data": {
      "text/plain": [
       "(500, 111907)"
      ]
     },
     "execution_count": 53,
     "metadata": {},
     "output_type": "execute_result"
    }
   ],
   "source": [
    "kxpreal.shape"
   ]
  },
  {
   "cell_type": "code",
   "execution_count": 52,
   "metadata": {},
   "outputs": [],
   "source": [
    "#from numpy import savetxt\n",
    "#savetxt('kxpreal.csv',kxpreal,delimiter=',')"
   ]
  },
  {
   "cell_type": "code",
   "execution_count": 85,
   "metadata": {},
   "outputs": [
    {
     "name": "stdout",
     "output_type": "stream",
     "text": [
      "CPU times: user 212 ms, sys: 1.01 ms, total: 213 ms\n",
      "Wall time: 218 ms\n"
     ]
    },
    {
     "data": {
      "text/plain": [
       "(499500,)"
      ]
     },
     "execution_count": 85,
     "metadata": {},
     "output_type": "execute_result"
    }
   ],
   "source": [
    "%%time\n",
    "b = allel.rogers_huff_r((gf1[:1000,:]).to_n_alt())\n",
    "b.shape"
   ]
  },
  {
   "cell_type": "code",
   "execution_count": 91,
   "metadata": {},
   "outputs": [
    {
     "data": {
      "text/plain": [
       "(1000, 1000)"
      ]
     },
     "execution_count": 91,
     "metadata": {},
     "output_type": "execute_result"
    }
   ],
   "source": [
    "a = np.corrcoef((gf1[:1000,:]).to_n_alt())\n",
    "a.shape"
   ]
  },
  {
   "cell_type": "code",
   "execution_count": 104,
   "metadata": {},
   "outputs": [],
   "source": [
    "from scipy.spatial.distance import squareform\n",
    "from tqdm import tqdm\n",
    "\n",
    "def kxpfunc1(gmat):\n",
    "    emp = np.zeros((500,gmat.shape[0]-500))\n",
    "    for i in tqdm(list(range(gmat.shape[0]-500))):\n",
    "        emp[:,i] == np.reshape((squareform(np.square(allel.rogers_huff_r((gmat[i:i+500,:]).to_n_alt())))[:,0]),(500,1))\n",
    "    return emp"
   ]
  },
  {
   "cell_type": "code",
   "execution_count": null,
   "metadata": {},
   "outputs": [
    {
     "name": "stderr",
     "output_type": "stream",
     "text": [
      " 27%|██▋       | 30482/111908 [28:12<1:15:20, 18.01it/s]"
     ]
    }
   ],
   "source": [
    "kxpfunc1(gf1)"
   ]
  },
  {
   "cell_type": "code",
   "execution_count": 96,
   "metadata": {},
   "outputs": [
    {
     "data": {
      "text/html": [
       "<div class=\"allel allel-DisplayAs2D\"><span>&lt;GenotypeChunkedArray shape=(112408, 99, 2) dtype=int8 chunks=(3513, 99, 2)\n",
       "   nbytes=21.2M cbytes=7.9M cratio=2.7\n",
       "   compression=blosc compression_opts={'cname': 'lz4', 'clevel': 5, 'shuffle': 1, 'blocksize': 0}\n",
       "   values=zarr.core.Array&gt;</span><table><thead><tr><th></th><th style=\"text-align: center\">0</th><th style=\"text-align: center\">1</th><th style=\"text-align: center\">2</th><th style=\"text-align: center\">3</th><th style=\"text-align: center\">4</th><th style=\"text-align: center\">...</th><th style=\"text-align: center\">94</th><th style=\"text-align: center\">95</th><th style=\"text-align: center\">96</th><th style=\"text-align: center\">97</th><th style=\"text-align: center\">98</th></tr></thead><tbody><tr><th style=\"text-align: center; background-color: white; border-right: 1px solid black; \">0</th><td style=\"text-align: center\">0/0</td><td style=\"text-align: center\">0/0</td><td style=\"text-align: center\">0/0</td><td style=\"text-align: center\">0/0</td><td style=\"text-align: center\">0/0</td><td style=\"text-align: center\">...</td><td style=\"text-align: center\">0/0</td><td style=\"text-align: center\">0/0</td><td style=\"text-align: center\">0/0</td><td style=\"text-align: center\">0/0</td><td style=\"text-align: center\">1/0</td></tr><tr><th style=\"text-align: center; background-color: white; border-right: 1px solid black; \">1</th><td style=\"text-align: center\">0/0</td><td style=\"text-align: center\">0/0</td><td style=\"text-align: center\">0/0</td><td style=\"text-align: center\">0/0</td><td style=\"text-align: center\">0/0</td><td style=\"text-align: center\">...</td><td style=\"text-align: center\">0/0</td><td style=\"text-align: center\">0/0</td><td style=\"text-align: center\">0/0</td><td style=\"text-align: center\">0/0</td><td style=\"text-align: center\">0/1</td></tr><tr><th style=\"text-align: center; background-color: white; border-right: 1px solid black; \">2</th><td style=\"text-align: center\">0/0</td><td style=\"text-align: center\">0/0</td><td style=\"text-align: center\">0/0</td><td style=\"text-align: center\">0/0</td><td style=\"text-align: center\">0/0</td><td style=\"text-align: center\">...</td><td style=\"text-align: center\">0/0</td><td style=\"text-align: center\">0/0</td><td style=\"text-align: center\">0/0</td><td style=\"text-align: center\">0/0</td><td style=\"text-align: center\">0/1</td></tr><tr><th style=\"text-align: center; background-color: white; border-right: 1px solid black; \">...</th><td style=\"text-align: center\" colspan=\"12\">...</td></tr><tr><th style=\"text-align: center; background-color: white; border-right: 1px solid black; \">112405</th><td style=\"text-align: center\">0/0</td><td style=\"text-align: center\">0/0</td><td style=\"text-align: center\">1/1</td><td style=\"text-align: center\">0/0</td><td style=\"text-align: center\">1/0</td><td style=\"text-align: center\">...</td><td style=\"text-align: center\">1/0</td><td style=\"text-align: center\">0/1</td><td style=\"text-align: center\">0/1</td><td style=\"text-align: center\">1/1</td><td style=\"text-align: center\">0/0</td></tr><tr><th style=\"text-align: center; background-color: white; border-right: 1px solid black; \">112406</th><td style=\"text-align: center\">0/0</td><td style=\"text-align: center\">0/1</td><td style=\"text-align: center\">0/0</td><td style=\"text-align: center\">0/0</td><td style=\"text-align: center\">0/0</td><td style=\"text-align: center\">...</td><td style=\"text-align: center\">0/0</td><td style=\"text-align: center\">1/0</td><td style=\"text-align: center\">0/0</td><td style=\"text-align: center\">0/0</td><td style=\"text-align: center\">0/1</td></tr><tr><th style=\"text-align: center; background-color: white; border-right: 1px solid black; \">112407</th><td style=\"text-align: center\">0/0</td><td style=\"text-align: center\">1/0</td><td style=\"text-align: center\">0/0</td><td style=\"text-align: center\">1/1</td><td style=\"text-align: center\">0/0</td><td style=\"text-align: center\">...</td><td style=\"text-align: center\">0/0</td><td style=\"text-align: center\">0/0</td><td style=\"text-align: center\">1/0</td><td style=\"text-align: center\">0/0</td><td style=\"text-align: center\">0/0</td></tr></tbody></table></div>"
      ],
      "text/plain": [
       "<GenotypeChunkedArray shape=(112408, 99, 2) dtype=int8 chunks=(3513, 99, 2)\n",
       "   nbytes=21.2M cbytes=7.9M cratio=2.7\n",
       "   compression=blosc compression_opts={'cname': 'lz4', 'clevel': 5, 'shuffle': 1, 'blocksize': 0}\n",
       "   values=zarr.core.Array>"
      ]
     },
     "execution_count": 96,
     "metadata": {},
     "output_type": "execute_result"
    }
   ],
   "source": [
    "gf1"
   ]
  },
  {
   "cell_type": "code",
   "execution_count": 1,
   "metadata": {},
   "outputs": [],
   "source": [
    "#Arjun's function\n",
    "import numpy as np\n",
    "import allel\n",
    "from tqdm import tqdm\n",
    "import pandas as pd\n",
    "import zarr"
   ]
  },
  {
   "cell_type": "code",
   "execution_count": 2,
   "metadata": {},
   "outputs": [],
   "source": [
    "import warnings \n",
    "warnings.filterwarnings('ignore')"
   ]
  },
  {
   "cell_type": "code",
   "execution_count": 3,
   "metadata": {},
   "outputs": [],
   "source": [
    "import matplotlib.pyplot as plt\n",
    "%matplotlib inline"
   ]
  },
  {
   "cell_type": "code",
   "execution_count": 4,
   "metadata": {},
   "outputs": [],
   "source": [
    "#Reading in zarr file\n",
    "filename = '../../../../data/external_public/1kg_phase3/haps/ALL.chr22.phase3_shapeit2_mvncall_integrated_v5a.20130502.genotypes.zarr'"
   ]
  },
  {
   "cell_type": "code",
   "execution_count": 5,
   "metadata": {},
   "outputs": [],
   "source": [
    "callset = zarr.open_group(filename, mode='r')"
   ]
  },
  {
   "cell_type": "code",
   "execution_count": 6,
   "metadata": {},
   "outputs": [],
   "source": [
    "gt = callset['22/calldata/GT']\n",
    "ac = callset['22/variants/AC']\n",
    "pos = callset['22/variants/POS']\n",
    "numalt = callset['22/variants/numalt']"
   ]
  },
  {
   "cell_type": "code",
   "execution_count": 7,
   "metadata": {},
   "outputs": [],
   "source": [
    "# Converting to numpy arrays\n",
    "numalt_np = numalt[:]\n",
    "ac_np = ac[:]\n",
    "pos_np = pos[:]"
   ]
  },
  {
   "cell_type": "code",
   "execution_count": null,
   "metadata": {},
   "outputs": [],
   "source": [
    "true_gt = gt[:,:,0]+gt[:,:,1]"
   ]
  },
  {
   "cell_type": "code",
   "execution_count": null,
   "metadata": {},
   "outputs": [],
   "source": [
    "%time true_gt = gt[:,:,0] + gt[:,:,1]"
   ]
  },
  {
   "cell_type": "code",
   "execution_count": 1,
   "metadata": {},
   "outputs": [],
   "source": [
    "import allel"
   ]
  },
  {
   "cell_type": "code",
   "execution_count": 2,
   "metadata": {},
   "outputs": [],
   "source": [
    "x='../../../../data/external_public/1kg_phase3/haps/ALL.chr22.phase3_shapeit2_mvncall_integrated_v5a.20130502.genotypes.vcf.gz'"
   ]
  },
  {
   "cell_type": "code",
   "execution_count": 18,
   "metadata": {},
   "outputs": [
    {
     "ename": "TypeError",
     "evalue": "expected str, bytes or os.PathLike object, not numpy.ndarray",
     "output_type": "error",
     "traceback": [
      "\u001b[0;31m---------------------------------------------------------------------------\u001b[0m",
      "\u001b[0;31mTypeError\u001b[0m                                 Traceback (most recent call last)",
      "\u001b[0;32m<timed exec>\u001b[0m in \u001b[0;36m<module>\u001b[0;34m\u001b[0m\n",
      "\u001b[0;31mTypeError\u001b[0m: expected str, bytes or os.PathLike object, not numpy.ndarray"
     ]
    }
   ],
   "source": [
    "%%time\n",
    "with open (x,mode='r') as vcf:\n",
    "    callset=allel.read_vcf(x,fields=['calldata/GT','variants/POS','variants/CHROM'])"
   ]
  },
  {
   "cell_type": "code",
   "execution_count": 2,
   "metadata": {},
   "outputs": [],
   "source": [
    "# Reading in npz K x P LD matrices \n",
    "CHBfilepath = '../../data/ld_mats/chr22_ac5_K200_popCHB.npz'\n",
    "CEUfilepath = '../../data/ld_mats/chr22_ac5_K200_popCEU.npz'\n",
    "YRIfilepath = '../../data/ld_mats/chr22_ac5_K200_popYRI.npz'\n",
    "import numpy as np\n",
    "loadCHB = np.load(CHBfilepath)\n",
    "loadCEU = np.load(CEUfilepath)\n",
    "loadYRI = np.load(YRIfilepath)"
   ]
  },
  {
   "cell_type": "code",
   "execution_count": 3,
   "metadata": {},
   "outputs": [],
   "source": [
    "# Loading in LD matrices for each population\n",
    "\n",
    "CHBmat = loadCHB['ld_mat']\n",
    "CEUmat = loadCEU['ld_mat']\n",
    "YRImat = loadYRI['ld_mat']"
   ]
  },
  {
   "cell_type": "code",
   "execution_count": 148,
   "metadata": {},
   "outputs": [],
   "source": [
    "#First attempt at a function to return array of LD scores\n",
    "\n",
    "from tqdm import tqdm\n",
    "\n",
    "def ld_score(LDmat):\n",
    "    # Creating empty array to be filled with LD scores, length = number of SNPs\n",
    "    scores = np.zeros(LDmat.shape[1])\n",
    "    # While loop creates diagonal component of LD score, ends either when first column or last row of LD matrix is reached\n",
    "    for i in tqdm(range(LDmat.shape[1])):\n",
    "        col = i \n",
    "        row = 0\n",
    "        diag = 0\n",
    "        # Adding each cell in the diagonal to diag\n",
    "        while col>=1 and row<(LDmat.shape[0]-1):\n",
    "            diag += LDmat[1+row,col-1] \n",
    "            col -= 1\n",
    "            row += 1\n",
    "        # Adds sum of column to sum of diagonal\n",
    "        scores[i]=np.sum(LDmat[:,i]) + diag\n",
    "    return scores"
   ]
  },
  {
   "cell_type": "code",
   "execution_count": 149,
   "metadata": {},
   "outputs": [],
   "source": [
    "# Second attempt at a function to return array of LD scores - without using while loop\n",
    "\n",
    "from tqdm import tqdm\n",
    "import numpy as np\n",
    "\n",
    "def ld_score_v2(LDmat):\n",
    "    # Creating empty array to be filled with LD scores, length = number of SNPs\n",
    "    scores = np.zeros(LDmat.shape[1])\n",
    "    # Iterating through each column of K x P matrix\n",
    "    for i in tqdm(range(LDmat.shape[1])):        \n",
    "        localmat = LDmat[:,:i+1]\n",
    "        # Taking sum of reverse diagonal of matrix\n",
    "        flpdiag = np.fliplr(localmat).diagonal()\n",
    "        diag = np.sum(flpdiag)\n",
    "        # Calculating sum of ith column values\n",
    "        col = np.sum(LDmat[:,i])\n",
    "        # Adding column and diagonal sums\n",
    "        scores[i] = col + diag - LDmat[0,i]\n",
    "    return scores"
   ]
  },
  {
   "cell_type": "code",
   "execution_count": 150,
   "metadata": {},
   "outputs": [
    {
     "name": "stderr",
     "output_type": "stream",
     "text": [
      "100%|██████████| 384415/384415 [00:04<00:00, 85986.81it/s]\n",
      "100%|██████████| 384415/384415 [00:04<00:00, 87867.21it/s]\n",
      "100%|██████████| 384415/384415 [00:04<00:00, 89516.27it/s]\n"
     ]
    }
   ],
   "source": [
    "# Calculating LD scores for CHB, CEU, YRI, using second function\n",
    "CHB_LDS_2 = ld_score_v2(CHBmat)\n",
    "CEU_LDS_2 = ld_score_v2(CEUmat)\n",
    "YRI_LDS_2 = ld_score_v2(YRImat)"
   ]
  },
  {
   "cell_type": "code",
   "execution_count": 151,
   "metadata": {},
   "outputs": [
    {
     "name": "stderr",
     "output_type": "stream",
     "text": [
      "100%|██████████| 384415/384415 [00:46<00:00, 8257.86it/s]\n",
      "100%|██████████| 384415/384415 [00:45<00:00, 8438.46it/s]\n",
      "100%|██████████| 384415/384415 [00:45<00:00, 8430.74it/s]\n"
     ]
    }
   ],
   "source": [
    "# Calculating LD scores for CHB, CEU, YRI, using first function\n",
    "\n",
    "CHB_LDS = ld_score(CHBmat)\n",
    "CEU_LDS = ld_score(CEUmat)\n",
    "YRI_LDS = ld_score(YRImat)"
   ]
  },
  {
   "cell_type": "code",
   "execution_count": 154,
   "metadata": {},
   "outputs": [],
   "source": [
    "pos = loadCHB['positions']"
   ]
  },
  {
   "cell_type": "code",
   "execution_count": 155,
   "metadata": {},
   "outputs": [
    {
     "data": {
      "image/png": "[encoded data removed]",
      "text/plain": [
       "<Figure size 432x288 with 6 Axes>"
      ]
     },
     "metadata": {
      "needs_background": "light"
     },
     "output_type": "display_data"
    }
   ],
   "source": [
    "# Combined scatter and bar plots\n",
    "\n",
    "import matplotlib.pyplot as plt\n",
    "\n",
    "idx1 = (CHB_LDS > 0) \n",
    "idx2 = (CEU_LDS > 0) & (CHB_LDS > 0)\n",
    "idx3 = (CEU_LDS > 0) \n",
    "idx4 = (CHB_LDS > 0) & (YRI_LDS > 0)\n",
    "idx5 = (YRI_LDS > 0) \n",
    "idx6 = (CEU_LDS > 0) & (YRI_LDS > 0)\n",
    "\n",
    "fig, ((ax1,ax2),(ax3,ax4),(ax5,ax6)) = plt.subplots(3,2,sharex='col',sharey='col')\n",
    "\n",
    "x = np.linspace(0,250,200)\n",
    "\n",
    "ax1.plot(pos[idx1],CHB_LDS[idx1],color='purple')\n",
    "ax2.scatter(CHB_LDS[idx2], CEU_LDS[idx2],s=0.1,color='royalblue')\n",
    "ax2.plot(x,x,color='black')\n",
    "ax3.plot(pos[idx3],CEU_LDS[idx3],color='navy')\n",
    "ax4.scatter(CHB_LDS[idx4], YRI_LDS[idx4],s=0.1,color='indianred')\n",
    "ax4.plot(x,x,color='black')\n",
    "ax5.plot(pos[idx5],YRI_LDS[idx5],color='darkcyan')\n",
    "ax6.scatter(CEU_LDS[idx6], YRI_LDS[idx6],s=0.1,color='red')\n",
    "ax6.plot(x,x,color='black')\n",
    "\n",
    "ax2.set_xlabel(\"CHB LD scores\", fontsize=8)\n",
    "ax2.set_ylabel(\"CEU LD scores\", fontsize=8)\n",
    "ax3.set_ylabel('LD Score',fontsize=16)\n",
    "ax4.set_xlabel('CHB LD scores',fontsize=8)\n",
    "ax4.set_ylabel('YRI LD scores',fontsize=8)\n",
    "ax5.set_xlabel(\"Position\",fontsize=16)\n",
    "ax6.set_xlabel(\"CEU LD scores\",fontsize=8)\n",
    "ax6.set_ylabel(\"YRI LD scores\",fontsize=8)\n",
    "\n",
    "# Use code below in order to make scatter plots squares\n",
    "#x0,x1 = ax2.get_xlim()\n",
    "#y0,y1 = ax2.get_ylim()\n",
    "#ax2.set_aspect(abs(x1-x0)/abs(y1-y0))\n",
    "\n",
    "ax1.title.set_text(\"CHB\")\n",
    "ax2.title.set_text(\"CHB vs CEU LD scores (r = 0.771)\")\n",
    "ax2.title.set_fontsize(10)\n",
    "ax3.title.set_text(\"CEU\")\n",
    "ax4.title.set_text(\"CHB vs YRI LD scores (r = 0.574)\")\n",
    "ax4.title.set_fontsize(10)\n",
    "ax5.title.set_text(\"YRI\")\n",
    "ax6.title.set_text(\"CEU vs YRI LD scores (r = 0.619)\")\n",
    "ax6.title.set_fontsize(10)\n",
    "\n",
    "plt.tight_layout()\n",
    "#plt.savefig('chr22_LDS_bar_scatter.png',dpi=300)"
   ]
  },
  {
   "cell_type": "code",
   "execution_count": 156,
   "metadata": {},
   "outputs": [
    {
     "data": {
      "image/png": "[encoded data removed]",
      "text/plain": [
       "<Figure size 432x288 with 3 Axes>"
      ]
     },
     "metadata": {
      "needs_background": "light"
     },
     "output_type": "display_data"
    }
   ],
   "source": [
    "# Bar plots for entire chr22 to compare CHB/CEU/YRI populations\n",
    "\n",
    "fig, (ax1,ax2,ax3) = plt.subplots(3,sharex=True,sharey=True)\n",
    "\n",
    "idx1 = (CHB_LDS > 0) \n",
    "idx2 = (CEU_LDS > 0) \n",
    "idx3 = (YRI_LDS > 0) \n",
    "\n",
    "ax1.plot(pos[idx1],CHB_LDS[idx1],color='purple')\n",
    "ax2.plot(pos[idx2],CEU_LDS[idx2],color='navy')\n",
    "ax3.plot(pos[idx3],YRI_LDS[idx3],color='darkcyan')\n",
    "\n",
    "ax2.set_ylabel('LD Score',fontsize=16)\n",
    "ax3.set_xlabel(\"Position\",fontsize=16)\n",
    "\n",
    "ax1.title.set_text(\"CHB\")\n",
    "ax2.title.set_text(\"CEU\")\n",
    "ax3.title.set_text(\"YRI\")\n",
    "\n",
    "plt.tight_layout()\n",
    "#plt.savefig('chr22_LDS_bar.png',dpi=300)"
   ]
  },
  {
   "cell_type": "code",
   "execution_count": 157,
   "metadata": {},
   "outputs": [
    {
     "data": {
      "image/png": "[encoded data removed]",
      "text/plain": [
       "<Figure size 432x288 with 3 Axes>"
      ]
     },
     "metadata": {
      "needs_background": "light"
     },
     "output_type": "display_data"
    }
   ],
   "source": [
    "# Focusing on specific region of chromosome 22 \n",
    "\n",
    "fig, (ax1,ax2,ax3) = plt.subplots(3,sharex=True,sharey=True)\n",
    "\n",
    "lowerb = 3.6*10**7\n",
    "upperb = 3.95*10**7\n",
    "\n",
    "idx4 = (pos[idx1] > lowerb) & (pos[idx1] < upperb)\n",
    "idx5 = (pos[idx2] > lowerb) & (pos[idx2] < upperb)\n",
    "idx6 = (pos[idx3] > lowerb) & (pos[idx3] < upperb)\n",
    "\n",
    "ax1.plot(pos[idx1][idx4],CHB_LDS[idx1][idx4],color='purple')\n",
    "ax2.plot(pos[idx2][idx5],CEU_LDS[idx2][idx5],color='navy')\n",
    "ax3.plot(pos[idx3][idx6],YRI_LDS[idx3][idx6],color='darkcyan')\n",
    "\n",
    "ax2.set_ylabel('LD Score',fontsize=16)\n",
    "ax3.set_xlabel(\"Position\",fontsize=16)\n",
    "\n",
    "ax1.title.set_text(\"CHB\")\n",
    "ax2.title.set_text(\"CEU\")\n",
    "ax3.title.set_text(\"YRI\")\n",
    "\n",
    "plt.tight_layout()\n",
    "\n",
    "#plt.savefig('chr22_LDS_bar_region2.png',dpi=300)"
   ]
  },
  {
   "cell_type": "code",
   "execution_count": 158,
   "metadata": {},
   "outputs": [
    {
     "data": {
      "text/plain": [
       "array([[1.        , 0.77085096],\n",
       "       [0.77085096, 1.        ]])"
      ]
     },
     "execution_count": 158,
     "metadata": {},
     "output_type": "execute_result"
    },
    {
     "data": {
      "image/png": "[encoded data removed]",
      "text/plain": [
       "<Figure size 432x288 with 1 Axes>"
      ]
     },
     "metadata": {
      "needs_background": "light"
     },
     "output_type": "display_data"
    }
   ],
   "source": [
    "idx = (CEU_LDS > 0) & (CHB_LDS > 0)\n",
    "plt.scatter(CHB_LDS[idx],CEU_LDS[idx],s=0.1,color='purple')\n",
    "plt.xlabel(\"CHB LD score\")\n",
    "plt.ylabel(\"CEU LD score\")\n",
    "x = np.linspace(0,250,200)\n",
    "plt.plot(x, x, color='black')\n",
    "#np.corrcoef(CHB_LDS[idx],CEU_LDS[idx])\n",
    "np.corrcoef(CHB_LDS,CEU_LDS)\n",
    "#plt.savefig('CHBvsCEUscatter_chr22.png',dpi=300)"
   ]
  },
  {
   "cell_type": "code",
   "execution_count": 159,
   "metadata": {},
   "outputs": [
    {
     "data": {
      "text/plain": [
       "array([[1.        , 0.57421909],\n",
       "       [0.57421909, 1.        ]])"
      ]
     },
     "execution_count": 159,
     "metadata": {},
     "output_type": "execute_result"
    },
    {
     "data": {
      "image/png": "[encoded data removed]",
      "text/plain": [
       "<Figure size 432x288 with 1 Axes>"
      ]
     },
     "metadata": {
      "needs_background": "light"
     },
     "output_type": "display_data"
    }
   ],
   "source": [
    "idx = (CHB_LDS > 0) & (YRI_LDS > 0)\n",
    "plt.scatter(CHB_LDS[idx],YRI_LDS[idx], s=0.1, color = 'navy')\n",
    "plt.xlabel(\"CHB LD score\")\n",
    "plt.ylabel(\"YRI LD score\")\n",
    "plt.plot(x,x,color='black')\n",
    "#np.corrcoef(CHB_LDS[idx],YRI_LDS[idx])\n",
    "np.corrcoef(CHB_LDS,YRI_LDS)\n",
    "#plt.savefig('CHBvsYRIscatter_chr22.png',dpi=300)"
   ]
  },
  {
   "cell_type": "code",
   "execution_count": 160,
   "metadata": {},
   "outputs": [
    {
     "data": {
      "text/plain": [
       "array([[1.        , 0.61885442],\n",
       "       [0.61885442, 1.        ]])"
      ]
     },
     "execution_count": 160,
     "metadata": {},
     "output_type": "execute_result"
    },
    {
     "data": {
      "image/png": "[encoded data removed]",
      "text/plain": [
       "<Figure size 432x288 with 1 Axes>"
      ]
     },
     "metadata": {
      "needs_background": "light"
     },
     "output_type": "display_data"
    }
   ],
   "source": [
    "idx = (CEU_LDS > 0) & (YRI_LDS > 0)\n",
    "plt.scatter(CEU_LDS[idx],YRI_LDS[idx], s=0.1, color='darkcyan')\n",
    "plt.xlabel(\"CEU LD score\")\n",
    "plt.ylabel(\"YRI LD score\")\n",
    "plt.plot(x,x,color='black')\n",
    "#np.corrcoef(CEU_LDS[idx],YRI_LDS[idx])\n",
    "np.corrcoef(CEU_LDS,YRI_LDS)\n",
    "#plt.savefig('CEUvsYRIscatter_chr22.png',dpi=300)"
   ]
  },
  {
   "cell_type": "code",
   "execution_count": 161,
   "metadata": {},
   "outputs": [],
   "source": [
    "# Indexing function to get local triangular matrix centered on a particular SNP\n",
    "import numpy as np\n",
    "from tqdm import tqdm\n",
    "\n",
    "def local_LD(a,pos_list,snp_pos):\n",
    "    b = np.vstack((pos_list,a))\n",
    "    c = []\n",
    "    for i in tqdm(range(b.shape[1])):\n",
    "        if b[0,i] == snp_pos:\n",
    "            c.append(i)\n",
    "    if c[0]<b.shape[0]:\n",
    "        d = b[1:,:c[0]]\n",
    "        e = np.tril(np.fliplr(d))\n",
    "    else:\n",
    "        d = b[1:,c[0]-b.shape[0]:c[0]]\n",
    "        e = np.tril(np.fliplr(d))\n",
    "    return e"
   ]
  },
  {
   "cell_type": "code",
   "execution_count": 5,
   "metadata": {},
   "outputs": [
    {
     "name": "stderr",
     "output_type": "stream",
     "text": [
      "100%|██████████| 384415/384415 [00:00<00:00, 1559613.48it/s]\n"
     ]
    }
   ],
   "source": [
    "x = local_LD(CEUmat,pos,16051874)"
   ]
  },
  {
   "cell_type": "code",
   "execution_count": null,
   "metadata": {},
   "outputs": [],
   "source": []
  },
  {
   "cell_type": "code",
   "execution_count": null,
   "metadata": {},
   "outputs": [],
   "source": []
  }
 ],
 "metadata": {
  "kernelspec": {
   "display_name": "scikit",
   "language": "python",
   "name": "scikit"
  },
  "language_info": {
   "codemirror_mode": {
    "name": "ipython",
    "version": 3
   },
   "file_extension": ".py",
   "mimetype": "text/x-python",
   "name": "python",
   "nbconvert_exporter": "python",
   "pygments_lexer": "ipython3",
   "version": "3.8.3"
  }
 },
 "nbformat": 4,
 "nbformat_minor": 4
}
